{
 "cells": [
  {
   "cell_type": "code",
   "execution_count": 1,
   "metadata": {},
   "outputs": [],
   "source": [
    "import numpy as np\n",
    "import re"
   ]
  },
  {
   "cell_type": "code",
   "execution_count": 2,
   "metadata": {},
   "outputs": [],
   "source": [
    "lines = []\n",
    "\n",
    "with open('odgt/test.odgt') as f:\n",
    "    for line in f:\n",
    "        results = re.search(r'[1,2,3]\\d\\d.png', line)\n",
    "        if results:\n",
    "            lines.append(line)\n",
    "\n",
    "with open('odgt/train.odgt') as f:\n",
    "    for line in f:\n",
    "        results = re.search(r'[1,2,3]\\d\\d.png', line)\n",
    "        if results:\n",
    "            lines.append(line)\n",
    "\n",
    "with open('odgt/validate.odgt') as f:\n",
    "    for line in f:\n",
    "        results = re.search(r'[1,2,3]\\d\\d.png', line)\n",
    "        if results:\n",
    "            lines.append(line)"
   ]
  },
  {
   "cell_type": "code",
   "execution_count": 3,
   "metadata": {},
   "outputs": [],
   "source": [
    "with open('out.odgt', 'w') as f:\n",
    "    for line in lines:\n",
    "        f.write(line)"
   ]
  },
  {
   "cell_type": "code",
   "execution_count": null,
   "metadata": {},
   "outputs": [],
   "source": []
  }
 ],
 "metadata": {
  "kernelspec": {
   "display_name": "ss",
   "language": "python",
   "name": "python3"
  },
  "language_info": {
   "codemirror_mode": {
    "name": "ipython",
    "version": 3
   },
   "file_extension": ".py",
   "mimetype": "text/x-python",
   "name": "python",
   "nbconvert_exporter": "python",
   "pygments_lexer": "ipython3",
   "version": "3.11.11"
  }
 },
 "nbformat": 4,
 "nbformat_minor": 2
}
