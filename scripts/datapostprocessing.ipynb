{
 "cells": [
  {
   "cell_type": "code",
   "execution_count": 5,
   "metadata": {},
   "outputs": [],
   "source": [
    "import os\n"
   ]
  },
  {
   "cell_type": "code",
   "execution_count": 6,
   "metadata": {},
   "outputs": [
    {
     "name": "stdout",
     "output_type": "stream",
     "text": [
      "ade20k-mobilenetv2dilated-ppm_deepsup-CARLAWETDAY/results_clear_wet_day\n"
     ]
    }
   ],
   "source": [
    "list_val = \"/Data/1_17_clear_wet_day/odgt/test.odgt\"\n",
    "full_dir_name = os.path.basename(os.path.dirname(os.path.dirname(list_val)))\n",
    "test_set_name = '_'.join(full_dir_name.split('_')[2:])\n",
    "result_dir = os.path.join(\"ade20k-mobilenetv2dilated-ppm_deepsup-CARLAWETDAY\", f'results_{test_set_name}')\n",
    "\n",
    "print(result_dir)"
   ]
  }
 ],
 "metadata": {
  "kernelspec": {
   "display_name": "cv4ad",
   "language": "python",
   "name": "python3"
  },
  "language_info": {
   "codemirror_mode": {
    "name": "ipython",
    "version": 3
   },
   "file_extension": ".py",
   "mimetype": "text/x-python",
   "name": "python",
   "nbconvert_exporter": "python",
   "pygments_lexer": "ipython3",
   "version": "3.12.8"
  }
 },
 "nbformat": 4,
 "nbformat_minor": 2
}
