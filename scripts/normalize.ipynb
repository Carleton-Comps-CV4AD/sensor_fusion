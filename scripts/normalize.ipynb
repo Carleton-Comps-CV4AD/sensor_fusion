{
 "cells": [
  {
   "cell_type": "code",
   "execution_count": 31,
   "metadata": {},
   "outputs": [],
   "source": [
    "import numpy as np\n",
    "import math\n",
    "import os\n",
    "from matplotlib import pyplot as plt\n",
    "\n",
    "DISTANCE = 3"
   ]
  },
  {
   "cell_type": "code",
   "execution_count": 46,
   "metadata": {},
   "outputs": [],
   "source": [
    "def lin_mapping(vector, max_val = 250):\n",
    "    distance_scaled = np.interp(vector, [0, max_val], [0, 255]).astype(np.uint8)\n",
    "    return distance_scaled\n",
    "\n",
    "def log_mapping(vector, max_val = 250):\n",
    "    log1p = lambda x: 255 * math.log(x + 1) / math.log(max_val + 1)\n",
    "    distance_scaled = np.vectorize(log1p)(vector).astype(np.uint8)\n",
    "    return distance_scaled\n",
    "\n",
    "distances = []\n",
    "\n",
    "for img in os.listdir('clear_day/lidar_2d'):\n",
    "    img_path = os.path.join('clear_day/lidar_2d', img)\n",
    "    img_array = np.load(img_path)[DISTANCE]\n",
    "    img_array = img_array[img_array > 0]\n",
    "    img_array = log_mapping(img_array)\n",
    "    distances.extend(img_array)\n",
    "\n",
    "distances = np.array(distances)\n",
    "distances = distances / 255"
   ]
  },
  {
   "cell_type": "code",
   "execution_count": 47,
   "metadata": {},
   "outputs": [
    {
     "data": {
      "text/plain": [
       "0.5867350322882331"
      ]
     },
     "execution_count": 47,
     "metadata": {},
     "output_type": "execute_result"
    }
   ],
   "source": [
    "np.mean(distances)"
   ]
  },
  {
   "cell_type": "code",
   "execution_count": 48,
   "metadata": {},
   "outputs": [
    {
     "data": {
      "text/plain": [
       "0.17149311254910074"
      ]
     },
     "execution_count": 48,
     "metadata": {},
     "output_type": "execute_result"
    }
   ],
   "source": [
    "np.std(distances)"
   ]
  },
  {
   "cell_type": "code",
   "execution_count": 49,
   "metadata": {},
   "outputs": [
    {
     "data": {
      "text/plain": [
       "(array([3.000e+00, 4.900e+01, 5.400e+01, 3.500e+01, 8.800e+01, 1.280e+02,\n",
       "        1.970e+02, 2.160e+02, 1.880e+02, 1.110e+02, 2.050e+02, 2.470e+03,\n",
       "        2.730e+03, 5.695e+03, 3.340e+03, 3.099e+03, 3.434e+03, 3.527e+03,\n",
       "        3.056e+03, 3.386e+03, 3.257e+03, 3.426e+03, 3.244e+03, 6.720e+02,\n",
       "        3.254e+03, 3.459e+03, 1.152e+03, 2.361e+03, 6.230e+02, 3.214e+03,\n",
       "        2.896e+03, 6.740e+02, 3.084e+03, 8.330e+02, 2.655e+03, 1.202e+03,\n",
       "        3.210e+02, 2.711e+03, 8.640e+02, 1.062e+03, 2.714e+03, 8.950e+02,\n",
       "        1.319e+03, 2.407e+03, 1.080e+03, 8.020e+02, 2.038e+03, 2.948e+03,\n",
       "        1.607e+03, 1.421e+03, 2.166e+03, 1.522e+03, 2.474e+03, 1.382e+03,\n",
       "        7.910e+02, 1.736e+03, 3.017e+03, 3.188e+03, 2.175e+03, 2.006e+03,\n",
       "        1.813e+03, 2.303e+03, 3.033e+03, 1.729e+03, 3.808e+03, 3.632e+03,\n",
       "        3.252e+03, 2.463e+03, 2.022e+03, 1.945e+03, 1.967e+03, 1.735e+03,\n",
       "        8.530e+02, 1.385e+03, 1.174e+03, 1.314e+03, 1.151e+03, 1.313e+03,\n",
       "        1.162e+03, 1.216e+03, 7.700e+02, 3.510e+02, 8.970e+02, 7.400e+02,\n",
       "        8.060e+02, 1.075e+03, 1.226e+03, 9.350e+02, 6.670e+02, 5.640e+02,\n",
       "        2.680e+02, 4.610e+02, 4.460e+02, 3.550e+02, 3.570e+02, 3.030e+02,\n",
       "        2.740e+02, 2.170e+02, 1.170e+02, 1.720e+02]),\n",
       " array([0.25490196, 0.26231373, 0.26972549, 0.27713725, 0.28454902,\n",
       "        0.29196078, 0.29937255, 0.30678431, 0.31419608, 0.32160784,\n",
       "        0.32901961, 0.33643137, 0.34384314, 0.3512549 , 0.35866667,\n",
       "        0.36607843, 0.3734902 , 0.38090196, 0.38831373, 0.39572549,\n",
       "        0.40313725, 0.41054902, 0.41796078, 0.42537255, 0.43278431,\n",
       "        0.44019608, 0.44760784, 0.45501961, 0.46243137, 0.46984314,\n",
       "        0.4772549 , 0.48466667, 0.49207843, 0.4994902 , 0.50690196,\n",
       "        0.51431373, 0.52172549, 0.52913725, 0.53654902, 0.54396078,\n",
       "        0.55137255, 0.55878431, 0.56619608, 0.57360784, 0.58101961,\n",
       "        0.58843137, 0.59584314, 0.6032549 , 0.61066667, 0.61807843,\n",
       "        0.6254902 , 0.63290196, 0.64031373, 0.64772549, 0.65513725,\n",
       "        0.66254902, 0.66996078, 0.67737255, 0.68478431, 0.69219608,\n",
       "        0.69960784, 0.70701961, 0.71443137, 0.72184314, 0.7292549 ,\n",
       "        0.73666667, 0.74407843, 0.7514902 , 0.75890196, 0.76631373,\n",
       "        0.77372549, 0.78113725, 0.78854902, 0.79596078, 0.80337255,\n",
       "        0.81078431, 0.81819608, 0.82560784, 0.83301961, 0.84043137,\n",
       "        0.84784314, 0.8552549 , 0.86266667, 0.87007843, 0.8774902 ,\n",
       "        0.88490196, 0.89231373, 0.89972549, 0.90713725, 0.91454902,\n",
       "        0.92196078, 0.92937255, 0.93678431, 0.94419608, 0.95160784,\n",
       "        0.95901961, 0.96643137, 0.97384314, 0.9812549 , 0.98866667,\n",
       "        0.99607843]),\n",
       " <BarContainer object of 100 artists>)"
      ]
     },
     "execution_count": 49,
     "metadata": {},
     "output_type": "execute_result"
    },
    {
     "data": {
      "image/png": "[encoded data removed]",
      "text/plain": [
       "<Figure size 640x480 with 1 Axes>"
      ]
     },
     "metadata": {},
     "output_type": "display_data"
    }
   ],
   "source": [
    "plt.hist(distances, bins=100)"
   ]
  },
  {
   "cell_type": "code",
   "execution_count": null,
   "metadata": {},
   "outputs": [],
   "source": []
  }
 ],
 "metadata": {
  "kernelspec": {
   "display_name": "cv4ad",
   "language": "python",
   "name": "python3"
  },
  "language_info": {
   "codemirror_mode": {
    "name": "ipython",
    "version": 3
   },
   "file_extension": ".py",
   "mimetype": "text/x-python",
   "name": "python",
   "nbconvert_exporter": "python",
   "pygments_lexer": "ipython3",
   "version": "3.8.20"
  }
 },
 "nbformat": 4,
 "nbformat_minor": 2
}
